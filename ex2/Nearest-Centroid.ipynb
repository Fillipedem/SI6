{
 "cells": [
  {
   "cell_type": "markdown",
   "metadata": {},
   "source": [
    "# EX2 - b)"
   ]
  },
  {
   "cell_type": "code",
   "execution_count": 2,
   "metadata": {},
   "outputs": [],
   "source": [
    "import numpy as np\n",
    "\n",
    "# Classificador\n",
    "from sklearn.neighbors import NearestCentroid\n",
    "# Seleção de modelo\n",
    "from sklearn.model_selection import KFold, StratifiedKFold, train_test_split\n",
    "from sklearn.base import clone\n",
    "# Score\n",
    "from sklearn.metrics import accuracy_score"
   ]
  },
  {
   "cell_type": "code",
   "execution_count": 4,
   "metadata": {},
   "outputs": [],
   "source": [
    "X_res = np.genfromtxt('./data/X_res', delimiter=',')       # 0..255\n",
    "X_res_sc = np.genfromtxt('./data/X_res_sc', delimiter=',') # Normalizada 0..1\n",
    "\n",
    "y = [line.rstrip('\\n') for line in open('./data/y')]       # [normal, rightlight,...]\n",
    "y = np.array(y)"
   ]
  },
  {
   "cell_type": "markdown",
   "metadata": {},
   "source": [
    "### Dividindo a base"
   ]
  },
  {
   "cell_type": "code",
   "execution_count": 10,
   "metadata": {},
   "outputs": [],
   "source": [
    "X_train, X_test, y_train, y_test = train_test_split(X_res_sc, y, test_size=0.3)"
   ]
  },
  {
   "cell_type": "markdown",
   "metadata": {},
   "source": [
    "### Treinando"
   ]
  },
  {
   "cell_type": "code",
   "execution_count": 11,
   "metadata": {},
   "outputs": [
    {
     "data": {
      "text/plain": [
       "NearestCentroid(metric='euclidean', shrink_threshold=None)"
      ]
     },
     "execution_count": 11,
     "metadata": {},
     "output_type": "execute_result"
    }
   ],
   "source": [
    "clf = NearestCentroid()\n",
    "\n",
    "clf.fit(X_train, y_train)"
   ]
  },
  {
   "cell_type": "markdown",
   "metadata": {},
   "source": [
    "### Teste"
   ]
  },
  {
   "cell_type": "code",
   "execution_count": 12,
   "metadata": {},
   "outputs": [
    {
     "name": "stdout",
     "output_type": "stream",
     "text": [
      "Accuracy:  0.22\n"
     ]
    }
   ],
   "source": [
    "y_pred = clf.predict(X_test)\n",
    "\n",
    "print(\"Accuracy: \", accuracy_score(y_pred, y_test))"
   ]
  },
  {
   "cell_type": "markdown",
   "metadata": {},
   "source": [
    "### KFold"
   ]
  },
  {
   "cell_type": "code",
   "execution_count": 13,
   "metadata": {},
   "outputs": [],
   "source": [
    "def cvscores(X, y, classifier, k=10):\n",
    "    kfold = KFold(n_splits=k, shuffle=True)\n",
    "    scores = []\n",
    "    \n",
    "    for train, test in kfold.split(X, y):\n",
    "        clf = clone(classifier)\n",
    "        \n",
    "        # Treinando\n",
    "        clf.fit(X[train], y[train])\n",
    "        # Teste\n",
    "        y_pred = clf.predict(X[test])\n",
    "        # Resultado\n",
    "        acc = accuracy_score(y_pred, y[test])\n",
    "        scores.append(acc)\n",
    "    \n",
    "    return scores"
   ]
  },
  {
   "cell_type": "code",
   "execution_count": 16,
   "metadata": {},
   "outputs": [
    {
     "name": "stdout",
     "output_type": "stream",
     "text": [
      "Kfolds 20: \n",
      "[0.4444444444444444, 0.1111111111111111, 0.1111111111111111, 0.3333333333333333, 0.1111111111111111, 0.0, 0.25, 0.125, 0.25, 0.125, 0.25, 0.125, 0.25, 0.125, 0.25, 0.125, 0.25, 0.0, 0.125, 0.375]\n"
     ]
    }
   ],
   "source": [
    "clf = NearestCentroid()\n",
    "\n",
    "print(\"Kfolds 20: \")\n",
    "print(cvscores(X_res_sc, y, clf, 20))"
   ]
  },
  {
   "cell_type": "code",
   "execution_count": 17,
   "metadata": {},
   "outputs": [
    {
     "name": "stdout",
     "output_type": "stream",
     "text": [
      "Kfolds 10: \n",
      "[0.23529411764705882, 0.058823529411764705, 0.23529411764705882, 0.11764705882352941, 0.11764705882352941, 0.17647058823529413, 0.125, 0.1875, 0.1875, 0.3125]\n"
     ]
    }
   ],
   "source": [
    "clf = NearestCentroid()\n",
    "\n",
    "print(\"Kfolds 10: \")\n",
    "print(cvscores(X_res_sc, y, clf, 10))"
   ]
  },
  {
   "cell_type": "code",
   "execution_count": 18,
   "metadata": {},
   "outputs": [
    {
     "name": "stdout",
     "output_type": "stream",
     "text": [
      "Kfolds 5: \n",
      "[0.23529411764705882, 0.21212121212121213, 0.21212121212121213, 0.06060606060606061, 0.15151515151515152]\n"
     ]
    }
   ],
   "source": [
    "clf = NearestCentroid()\n",
    "\n",
    "print(\"Kfolds 5: \")\n",
    "print(cvscores(X_res_sc, y, clf, 5))"
   ]
  },
  {
   "cell_type": "code",
   "execution_count": 19,
   "metadata": {},
   "outputs": [
    {
     "name": "stdout",
     "output_type": "stream",
     "text": [
      "Kfolds 10: \n",
      "[0.26785714285714285, 0.14545454545454545, 0.14545454545454545]\n"
     ]
    }
   ],
   "source": [
    "clf = NearestCentroid()\n",
    "\n",
    "print(\"Kfolds 10: \")\n",
    "print(cvscores(X_res_sc, y, clf, 3))"
   ]
  },
  {
   "cell_type": "markdown",
   "metadata": {},
   "source": [
    "Dado a natureza do problema, não importando a variação do K, o classificador não consegue aprender o problema."
   ]
  }
 ],
 "metadata": {
  "kernelspec": {
   "display_name": "Python 3",
   "language": "python",
   "name": "python3"
  },
  "language_info": {
   "codemirror_mode": {
    "name": "ipython",
    "version": 3
   },
   "file_extension": ".py",
   "mimetype": "text/x-python",
   "name": "python",
   "nbconvert_exporter": "python",
   "pygments_lexer": "ipython3",
   "version": "3.6.7"
  }
 },
 "nbformat": 4,
 "nbformat_minor": 2
}
