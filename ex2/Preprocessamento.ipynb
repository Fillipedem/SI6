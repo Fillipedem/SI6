{
 "cells": [
  {
   "cell_type": "code",
   "execution_count": 1,
   "metadata": {},
   "outputs": [],
   "source": [
    "import pathlib\n",
    "import imageio\n",
    "import numpy as np\n",
    "import cv2\n",
    "\n",
    "# Preprocessamento\n",
    "from sklearn.preprocessing import MinMaxScaler"
   ]
  },
  {
   "cell_type": "markdown",
   "metadata": {},
   "source": [
    "### Pasta com as imagens "
   ]
  },
  {
   "cell_type": "code",
   "execution_count": 2,
   "metadata": {},
   "outputs": [],
   "source": [
    "training_paths = list(pathlib.Path('./yalefaces/yalefaces').glob('subject*'))"
   ]
  },
  {
   "cell_type": "markdown",
   "metadata": {},
   "source": [
    "### Lendo base de dados"
   ]
  },
  {
   "cell_type": "code",
   "execution_count": 3,
   "metadata": {},
   "outputs": [],
   "source": [
    "X = []\n",
    "y = []\n",
    "\n",
    "for im_path in training_paths:\n",
    "    # Lendo a imagem(2d)\n",
    "    im_array = imageio.imread(str(im_path))\n",
    "    # Categoria\n",
    "    im_type = im_path.name.split('.')[1]\n",
    "    \n",
    "    X.append(im_array)\n",
    "    y.append(im_type)"
   ]
  },
  {
   "cell_type": "markdown",
   "metadata": {},
   "source": [
    "### Preprocessando imagem - Resize/2d to 1d"
   ]
  },
  {
   "cell_type": "code",
   "execution_count": 4,
   "metadata": {},
   "outputs": [],
   "source": [
    "X_res = []\n",
    "\n",
    "for img_array in X:\n",
    "    # Resize 243x320 -> 100x100\n",
    "    img_res = cv2.resize(img_array, dsize=(100, 100), interpolation=cv2.INTER_CUBIC)\n",
    "    # 2d to 1d array\n",
    "    img_np = np.ravel(img_res)\n",
    "    # salvando\n",
    "    X_res.append(img_np)"
   ]
  },
  {
   "cell_type": "markdown",
   "metadata": {},
   "source": [
    "### Preprocessamento especifico para rede neural"
   ]
  },
  {
   "cell_type": "code",
   "execution_count": 5,
   "metadata": {},
   "outputs": [],
   "source": [
    "scaler = MinMaxScaler()\n",
    "scaler.fit(X_res)\n",
    "\n",
    "X_res_sc = scaler.transform(X_res)"
   ]
  },
  {
   "cell_type": "markdown",
   "metadata": {},
   "source": [
    "## Salvando dataset"
   ]
  },
  {
   "cell_type": "code",
   "execution_count": 11,
   "metadata": {},
   "outputs": [],
   "source": [
    "# X_res_sc X_res\n",
    "np.savetxt('./data/X_res_sc', X_res_sc, delimiter=',')\n",
    "np.savetxt('./data/X_res', X_res, delimiter=',')\n",
    "# y\n",
    "np.savetxt('./data/y', np.array(y), delimiter=',',  fmt=\"%s\")"
   ]
  },
  {
   "cell_type": "code",
   "execution_count": null,
   "metadata": {},
   "outputs": [],
   "source": []
  }
 ],
 "metadata": {
  "kernelspec": {
   "display_name": "Python 3",
   "language": "python",
   "name": "python3"
  },
  "language_info": {
   "codemirror_mode": {
    "name": "ipython",
    "version": 3
   },
   "file_extension": ".py",
   "mimetype": "text/x-python",
   "name": "python",
   "nbconvert_exporter": "python",
   "pygments_lexer": "ipython3",
   "version": "3.6.7"
  }
 },
 "nbformat": 4,
 "nbformat_minor": 2
}
