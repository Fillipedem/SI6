{
 "cells": [
  {
   "cell_type": "markdown",
   "metadata": {},
   "source": [
    "# EX2 - c)"
   ]
  },
  {
   "cell_type": "code",
   "execution_count": 1,
   "metadata": {},
   "outputs": [],
   "source": [
    "import numpy as np\n",
    "\n",
    "# Classificador\n",
    "from sklearn.neighbors import KNeighborsClassifier\n",
    "# Seleção de modelo\n",
    "from sklearn.model_selection import KFold, StratifiedKFold, train_test_split\n",
    "from sklearn.base import clone\n",
    "# Score\n",
    "from sklearn.metrics import accuracy_score"
   ]
  },
  {
   "cell_type": "code",
   "execution_count": 2,
   "metadata": {},
   "outputs": [],
   "source": [
    "X_res = np.genfromtxt('./data/X_res', delimiter=',')       # 0..255\n",
    "X_res_sc = np.genfromtxt('./data/X_res_sc', delimiter=',') # Normalizada 0..1\n",
    "\n",
    "y = [line.rstrip('\\n') for line in open('./data/y')]       # [normal, rightlight,...]\n",
    "y = np.array(y)"
   ]
  },
  {
   "cell_type": "markdown",
   "metadata": {},
   "source": [
    "### Dividindo a base"
   ]
  },
  {
   "cell_type": "code",
   "execution_count": 3,
   "metadata": {},
   "outputs": [],
   "source": [
    "X_train, X_test, y_train, y_test = train_test_split(X_res_sc, y, test_size=0.3)"
   ]
  },
  {
   "cell_type": "markdown",
   "metadata": {},
   "source": [
    "### Treinando"
   ]
  },
  {
   "cell_type": "code",
   "execution_count": 4,
   "metadata": {},
   "outputs": [
    {
     "data": {
      "text/plain": [
       "KNeighborsClassifier(algorithm='auto', leaf_size=30, metric='minkowski',\n",
       "           metric_params=None, n_jobs=None, n_neighbors=5, p=2,\n",
       "           weights='uniform')"
      ]
     },
     "execution_count": 4,
     "metadata": {},
     "output_type": "execute_result"
    }
   ],
   "source": [
    "clf = KNeighborsClassifier() #default n_neighbors=5\n",
    "\n",
    "clf.fit(X_train, y_train)"
   ]
  },
  {
   "cell_type": "markdown",
   "metadata": {},
   "source": [
    "### Teste"
   ]
  },
  {
   "cell_type": "code",
   "execution_count": 5,
   "metadata": {},
   "outputs": [
    {
     "name": "stdout",
     "output_type": "stream",
     "text": [
      "Accuracy:  0.2\n"
     ]
    }
   ],
   "source": [
    "y_pred = clf.predict(X_test)\n",
    "\n",
    "print(\"Accuracy: \", accuracy_score(y_pred, y_test))"
   ]
  },
  {
   "cell_type": "markdown",
   "metadata": {},
   "source": [
    "### KFold"
   ]
  },
  {
   "cell_type": "code",
   "execution_count": 6,
   "metadata": {},
   "outputs": [],
   "source": [
    "def cvscores(X, y, classifier, k=10):\n",
    "    kfold = KFold(n_splits=k, shuffle=True)\n",
    "    scores = []\n",
    "    \n",
    "    for train, test in kfold.split(X, y):\n",
    "        clf = clone(classifier)\n",
    "        \n",
    "        # Treinando\n",
    "        clf.fit(X[train], y[train])\n",
    "        # Teste\n",
    "        y_pred = clf.predict(X[test])\n",
    "        # Resultado\n",
    "        acc = accuracy_score(y_pred, y[test])\n",
    "        scores.append(acc)\n",
    "    \n",
    "    return scores"
   ]
  },
  {
   "cell_type": "code",
   "execution_count": 7,
   "metadata": {
    "scrolled": true
   },
   "outputs": [
    {
     "name": "stdout",
     "output_type": "stream",
     "text": [
      "KNN: k=1\n",
      "[0.23529411764705882, 0.058823529411764705, 0.17647058823529413, 0.17647058823529413, 0.23529411764705882, 0.058823529411764705, 0.1875, 0.25, 0.1875, 0.1875]\n"
     ]
    }
   ],
   "source": [
    "clf = KNeighborsClassifier(n_neighbors=1)\n",
    "\n",
    "print(\"KNN: k=1\")\n",
    "print(cvscores(X_res_sc, y, clf))"
   ]
  },
  {
   "cell_type": "code",
   "execution_count": 8,
   "metadata": {},
   "outputs": [
    {
     "name": "stdout",
     "output_type": "stream",
     "text": [
      "KNN: k=3\n",
      "[0.11764705882352941, 0.11764705882352941, 0.17647058823529413, 0.11764705882352941, 0.17647058823529413, 0.17647058823529413, 0.25, 0.25, 0.4375, 0.125]\n"
     ]
    }
   ],
   "source": [
    "clf = KNeighborsClassifier(n_neighbors=3)\n",
    "\n",
    "print(\"KNN: k=3\")\n",
    "print(cvscores(X_res_sc, y, clf))"
   ]
  },
  {
   "cell_type": "code",
   "execution_count": 9,
   "metadata": {
    "scrolled": true
   },
   "outputs": [
    {
     "name": "stdout",
     "output_type": "stream",
     "text": [
      "KNN: k=5\n",
      "[0.0, 0.11764705882352941, 0.23529411764705882, 0.35294117647058826, 0.11764705882352941, 0.29411764705882354, 0.1875, 0.25, 0.125, 0.1875]\n"
     ]
    }
   ],
   "source": [
    "clf = KNeighborsClassifier(n_neighbors=5)\n",
    "\n",
    "print(\"KNN: k=5\")\n",
    "print(cvscores(X_res_sc, y, clf))"
   ]
  },
  {
   "cell_type": "code",
   "execution_count": 10,
   "metadata": {},
   "outputs": [
    {
     "name": "stdout",
     "output_type": "stream",
     "text": [
      "KNN: k=7\n",
      "[0.058823529411764705, 0.29411764705882354, 0.11764705882352941, 0.17647058823529413, 0.4117647058823529, 0.17647058823529413, 0.0625, 0.1875, 0.125, 0.25]\n"
     ]
    }
   ],
   "source": [
    "clf = KNeighborsClassifier(n_neighbors=7)\n",
    "\n",
    "print(\"KNN: k=7\")\n",
    "print(cvscores(X_res_sc, y, clf))"
   ]
  },
  {
   "cell_type": "code",
   "execution_count": 11,
   "metadata": {
    "scrolled": true
   },
   "outputs": [
    {
     "name": "stdout",
     "output_type": "stream",
     "text": [
      "KNN: k=10\n",
      "[0.11764705882352941, 0.17647058823529413, 0.058823529411764705, 0.35294117647058826, 0.23529411764705882, 0.11764705882352941, 0.125, 0.125, 0.125, 0.375]\n"
     ]
    }
   ],
   "source": [
    "clf = KNeighborsClassifier(n_neighbors=10)\n",
    "\n",
    "print(\"KNN: k=10\")\n",
    "print(cvscores(X_res_sc, y, clf))"
   ]
  },
  {
   "cell_type": "code",
   "execution_count": 12,
   "metadata": {},
   "outputs": [
    {
     "name": "stdout",
     "output_type": "stream",
     "text": [
      "KNN: k=10\n",
      "[0.23529411764705882, 0.35294117647058826, 0.058823529411764705, 0.17647058823529413, 0.29411764705882354, 0.23529411764705882, 0.125, 0.1875, 0.1875, 0.1875]\n"
     ]
    }
   ],
   "source": [
    "clf = KNeighborsClassifier(n_neighbors=15)\n",
    "\n",
    "print(\"KNN: k=10\")\n",
    "print(cvscores(X_res_sc, y, clf))"
   ]
  }
 ],
 "metadata": {
  "kernelspec": {
   "display_name": "Python 3",
   "language": "python",
   "name": "python3"
  },
  "language_info": {
   "codemirror_mode": {
    "name": "ipython",
    "version": 3
   },
   "file_extension": ".py",
   "mimetype": "text/x-python",
   "name": "python",
   "nbconvert_exporter": "python",
   "pygments_lexer": "ipython3",
   "version": "3.6.7"
  }
 },
 "nbformat": 4,
 "nbformat_minor": 2
}
